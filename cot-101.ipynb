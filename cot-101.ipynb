{
 "cells": [
  {
   "cell_type": "markdown",
   "metadata": {},
   "source": [
    "# Chain of Thought - 101\n",
    "\n",
    "This is the minimal working example using the DsPY framework."
   ]
  },
  {
   "cell_type": "code",
   "execution_count": 2,
   "metadata": {},
   "outputs": [
    {
     "name": "stdout",
     "output_type": "stream",
     "text": [
      "\u001b[31mERROR: pip's dependency resolver does not currently take into account all the packages that are installed. This behaviour is the source of the following dependency conflicts.\n",
      "argilla 1.3.1 requires pandas<2.0.0,>=1.0.0, but you have pandas 2.1.4 which is incompatible.\u001b[0m\u001b[31m\n",
      "\u001b[0mNote: you may need to restart the kernel to use updated packages.\n"
     ]
    }
   ],
   "source": [
    "%pip install -qq dspy-ai"
   ]
  },
  {
   "cell_type": "code",
   "execution_count": 7,
   "metadata": {},
   "outputs": [
    {
     "name": "stderr",
     "output_type": "stream",
     "text": [
      "Downloading readme: 100%|██████████| 7.94k/7.94k [00:00<00:00, 3.49MB/s]\n",
      "Downloading data: 100%|██████████| 2.31M/2.31M [00:00<00:00, 3.37MB/s]\n",
      "Downloading data: 100%|██████████| 419k/419k [00:00<00:00, 1.75MB/s]]\n",
      "Downloading data files: 100%|██████████| 2/2 [00:01<00:00,  1.81it/s]\n",
      "Extracting data files: 100%|██████████| 2/2 [00:00<00:00, 839.28it/s]\n",
      "Generating train split: 100%|██████████| 7473/7473 [00:00<00:00, 576749.60 examples/s]\n",
      "Generating test split: 100%|██████████| 1319/1319 [00:00<00:00, 550421.55 examples/s]\n",
      "100%|██████████| 7473/7473 [00:00<00:00, 60782.65it/s]\n",
      "100%|██████████| 1319/1319 [00:00<00:00, 83788.25it/s]\n"
     ]
    }
   ],
   "source": [
    "import dspy\n",
    "from dspy.datasets.gsm8k import GSM8K, gsm8k_metric\n",
    "\n",
    "turbo = dspy.OpenAI(model=\"gpt-3.5-turbo-instruct\", max_tokens=250)\n",
    "dspy.settings.configure(lm=turbo)\n",
    "gms8k = GSM8K()\n",
    "gms8k_trainset, gms8k_devset = gms8k.train[:10], gms8k.dev[:10]"
   ]
  },
  {
   "cell_type": "code",
   "execution_count": null,
   "metadata": {},
   "outputs": [],
   "source": []
  }
 ],
 "metadata": {
  "kernelspec": {
   "display_name": "bs4",
   "language": "python",
   "name": "python3"
  },
  "language_info": {
   "codemirror_mode": {
    "name": "ipython",
    "version": 3
   },
   "file_extension": ".py",
   "mimetype": "text/x-python",
   "name": "python",
   "nbconvert_exporter": "python",
   "pygments_lexer": "ipython3",
   "version": "3.10.9"
  }
 },
 "nbformat": 4,
 "nbformat_minor": 2
}
